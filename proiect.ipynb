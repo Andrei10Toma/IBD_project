{
 "cells": [
  {
   "cell_type": "code",
   "execution_count": 10,
   "metadata": {},
   "outputs": [],
   "source": [
    "from typing import List\n",
    "from abc import abstractmethod, ABC\n",
    "\n",
    "class Action:\n",
    "    pass\n",
    "\n",
    "class InitAction(Action):\n",
    "    def __init__(self, arr: List[int]):\n",
    "        self.arr = [x for x in arr]\n",
    "\n",
    "    def __repr__(self):\n",
    "        return f'Init({self.arr})'\n",
    "\n",
    "class CompareAction(Action):\n",
    "    def __init__(self, i: int , j: int, ):\n",
    "        self.i = i\n",
    "        self.j = j\n",
    "\n",
    "    def __repr__(self):\n",
    "        return f'Compare({self.i}, {self.j})'\n",
    "\n",
    "class SwapAction(Action):\n",
    "    def __init__(self, i: int , j: int, updatedArr: List[int]):\n",
    "        self.i = i\n",
    "        self.j = j\n",
    "        self.updatedArr = [x for x in updatedArr]\n",
    "\n",
    "\n",
    "    def __repr__(self):\n",
    "        return f'Swap({self.i}, {self.j}, {self.updatedArr})'\n"
   ]
  },
  {
   "cell_type": "code",
   "execution_count": 11,
   "metadata": {},
   "outputs": [],
   "source": [
    "class Sort(ABC):\n",
    "    def __init__(self, arr: List[int]):\n",
    "        self.arr = arr\n",
    "        self.actions: List[Action] = [InitAction(arr)]\n",
    "\n",
    "    def _cmp(self, i: int, j: int) -> int:\n",
    "        self.actions.append(CompareAction(i, j))\n",
    "        return self.arr[i] - self.arr[j]\n",
    "\n",
    "    def _swap(self, i: int, j: int) -> None:\n",
    "        self.arr[i], self.arr[j] = self.arr[j], self.arr[i]\n",
    "        self.actions.append(SwapAction(i, j, self.arr))\n",
    "\n",
    "    @abstractmethod\n",
    "    def sort(self) -> None:\n",
    "        raise NotImplemented()\n",
    "\n",
    "    def getActions(self) -> List[Action]:\n",
    "        return self.actions\n"
   ]
  },
  {
   "cell_type": "code",
   "execution_count": 12,
   "metadata": {},
   "outputs": [],
   "source": [
    "class BubbleSort(Sort):\n",
    "    def sort(self):\n",
    "        for i in range(len(self.arr)):\n",
    "            for j in range(i + 1, len(self.arr)):\n",
    "                if self._cmp(i, j) > 0:\n",
    "                    self._swap(i, j)\n"
   ]
  },
  {
   "cell_type": "code",
   "execution_count": 14,
   "metadata": {},
   "outputs": [
    {
     "name": "stdout",
     "output_type": "stream",
     "text": [
      "[Init([3, 2, 1]), Compare(0, 1), Swap(0, 1, [2, 3, 1]), Compare(0, 2), Swap(0, 2, [1, 3, 2]), Compare(1, 2), Swap(1, 2, [1, 2, 3])]\n",
      "[1, 2, 3]\n"
     ]
    }
   ],
   "source": [
    "if __name__ == '__main__':\n",
    "    arr = [3, 2, 1]\n",
    "    sortAlg = BubbleSort(arr)\n",
    "    sortAlg.sort()\n",
    "    print(sortAlg.getActions())\n",
    "    print(arr)\n"
   ]
  }
 ],
 "metadata": {
  "kernelspec": {
   "display_name": "Python 3",
   "language": "python",
   "name": "python3"
  },
  "language_info": {
   "codemirror_mode": {
    "name": "ipython",
    "version": 3
   },
   "file_extension": ".py",
   "mimetype": "text/x-python",
   "name": "python",
   "nbconvert_exporter": "python",
   "pygments_lexer": "ipython3",
   "version": "3.10.12"
  }
 },
 "nbformat": 4,
 "nbformat_minor": 2
}
