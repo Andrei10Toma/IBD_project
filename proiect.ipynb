{
 "cells": [
  {
   "cell_type": "code",
   "execution_count": null,
   "metadata": {},
   "outputs": [],
   "source": [
    "from typing import List\n",
    "\n",
    "class Sort:\n",
    "    def __init__(arr: List[int]):\n",
    "        # log init array\n",
    "        pass\n",
    "    \n",
    "    def _cmp(self, i, j):\n",
    "        # log compare\n",
    "        pass\n",
    "        \n",
    "    def _swap(self, i, j):\n",
    "        # log swap\n",
    "        pass\n",
    "    \n",
    "    def sort(self):\n",
    "        raise NotImplemented()\n",
    "        \n",
    "    def getActions(self):\n",
    "        pass\n",
    "        \n",
    "class Action:\n",
    "    # Init array\n",
    "    # Compare index\n",
    "    # Swap index\n",
    "    pass\n"
   ]
  }
 ],
 "metadata": {
  "language_info": {
   "name": "python"
  }
 },
 "nbformat": 4,
 "nbformat_minor": 2
}
